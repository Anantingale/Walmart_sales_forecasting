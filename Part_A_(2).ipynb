{
 "cells": [
  {
   "cell_type": "code",
   "execution_count": 7,
   "id": "9d7fea73-8994-4b4b-a780-218b2e7c0bcd",
   "metadata": {},
   "outputs": [
    {
     "name": "stdout",
     "output_type": "stream",
     "text": [
      "The total bill is: 4685\n",
      "The product with the highest total contribution is: apples\n"
     ]
    }
   ],
   "source": [
    "def consumer_store(products):\n",
    "    total_bill = 0\n",
    "    highest_contribution = 0\n",
    "    top_product_name = None\n",
    "\n",
    "    for product_name, product_details in products.items():\n",
    "        price = product_details['price']\n",
    "        quantity = product_details['quantity']\n",
    "\n",
    "        # NOW WE WILL CALCULATE THE CONTRIBUTION OF THE PRODUCT \n",
    "        contribution = price * quantity\n",
    "\n",
    "        # HERE WE WILL ADD THE CONTRIBUTION TO THE TOTAL BILL\n",
    "        total_bill += contribution\n",
    "\n",
    "        # NOW WE WILL FIND THE PRODUCT THAT HAS HIGHEST\n",
    "        if contribution > highest_contribution:\n",
    "            highest_contribution = contribution\n",
    "            top_product = product_name\n",
    "\n",
    "    return total_bill, top_product\n",
    "\n",
    "items = {\n",
    "    \"apples\": {\"price\": 350, \"quantity\": 10},\n",
    "    \"bananas\": {\"price\": 210, \"quantity\": 5},\n",
    "    \"oranges\": {\"price\": 45, \"quantity\": 3}\n",
    "}\n",
    "\n",
    "total_bill, top_item = consumer_store(items)\n",
    "\n",
    "print(f\"The total bill is: {total_bill}\")\n",
    "print(f\"The product with the highest total contribution is: {top_item}\")"
   ]
  },
  {
   "cell_type": "code",
   "execution_count": null,
   "id": "d4184607-8886-4b4c-81ed-520f90e9e5da",
   "metadata": {},
   "outputs": [],
   "source": []
  }
 ],
 "metadata": {
  "kernelspec": {
   "display_name": "Python 3 (ipykernel)",
   "language": "python",
   "name": "python3"
  },
  "language_info": {
   "codemirror_mode": {
    "name": "ipython",
    "version": 3
   },
   "file_extension": ".py",
   "mimetype": "text/x-python",
   "name": "python",
   "nbconvert_exporter": "python",
   "pygments_lexer": "ipython3",
   "version": "3.10.11"
  }
 },
 "nbformat": 4,
 "nbformat_minor": 5
}

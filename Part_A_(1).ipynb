{
 "cells": [
  {
   "cell_type": "code",
   "execution_count": 1,
   "id": "5561c327-5f0c-4e5e-bff5-446b52635663",
   "metadata": {},
   "outputs": [],
   "source": [
    "x=[1,2,3,4,5,6,4,56,3,63,4,45,-1,-5]"
   ]
  },
  {
   "cell_type": "code",
   "execution_count": 12,
   "id": "9d7b8f99-8377-4f82-bbdb-1ca2683a8ef5",
   "metadata": {},
   "outputs": [
    {
     "name": "stdout",
     "output_type": "stream",
     "text": [
      "Mean is 13.571428571428571\n"
     ]
    }
   ],
   "source": [
    "#MEAN\n",
    "\n",
    "def mean(x):\n",
    "    return sum(x)/len(x)\n",
    "print(f'Mean is {mean(x)}')\n"
   ]
  },
  {
   "cell_type": "code",
   "execution_count": 13,
   "id": "51671714-ec52-4084-8637-4b3b33be2222",
   "metadata": {},
   "outputs": [
    {
     "name": "stdout",
     "output_type": "stream",
     "text": [
      "4.0\n"
     ]
    }
   ],
   "source": [
    "#MEDIAN\n",
    "\n",
    "x = [1,2,3,4,5,6,4,56,3,63,4,45,-1,-5]\n",
    "def median(x):\n",
    "    #We will first sort the list and then find the median \n",
    "    x.sort()\n",
    "    if len(x) % 2 !=0:\n",
    "        mid_value=int((len(x)-1)/2)\n",
    "        return x[mid_value]\n",
    "    elif len(x) % 2 ==0:\n",
    "        mid_value1=int(len(x)/2)\n",
    "        mid_value2=int(len(x)/2) - 1\n",
    "        return mean([x[mid_value1], x[mid_value2]])\n",
    "\n",
    "print(median(x))\n",
    "        "
   ]
  },
  {
   "cell_type": "code",
   "execution_count": 18,
   "id": "6643456d-29c7-437d-b1cd-cf623c51c8a7",
   "metadata": {},
   "outputs": [
    {
     "name": "stdout",
     "output_type": "stream",
     "text": [
      "4\n"
     ]
    }
   ],
   "source": [
    "#MODE\n",
    "def mode(x):\n",
    "    max_count=(0,0)\n",
    "    for num in x:\n",
    "        occurences=x.count(num)\n",
    "        if occurences>max_count[0]:\n",
    "            max_count=(occurences,num)\n",
    "    return max_count[1]\n",
    "\n",
    "print(mode(x))"
   ]
  },
  {
   "cell_type": "code",
   "execution_count": 19,
   "id": "c9be4734-5fcf-4354-84c0-f3255a2e8a84",
   "metadata": {},
   "outputs": [
    {
     "name": "stdout",
     "output_type": "stream",
     "text": [
      "479.2448979591837\n"
     ]
    }
   ],
   "source": [
    "#VARIANCE \n",
    "\n",
    "def variance(x):\n",
    "    m = mean(x)\n",
    "    total = 0\n",
    "    for num in x:\n",
    "        total += (num - m) ** 2\n",
    "    return total / len(x)\n",
    "\n",
    "print(variance(x))"
   ]
  },
  {
   "cell_type": "code",
   "execution_count": 21,
   "id": "355e666a-038c-4eef-bde5-43a11a47e9b4",
   "metadata": {},
   "outputs": [
    {
     "name": "stdout",
     "output_type": "stream",
     "text": [
      "21.89166274998735\n"
     ]
    }
   ],
   "source": [
    "# STANDARD DEVIATION \n",
    "\n",
    "def std(x):\n",
    "    return variance(x) ** 0.5\n",
    "\n",
    "print(std(x))"
   ]
  },
  {
   "cell_type": "code",
   "execution_count": 22,
   "id": "f403b316-b016-4995-82b8-a3516be7e0dd",
   "metadata": {},
   "outputs": [
    {
     "name": "stdout",
     "output_type": "stream",
     "text": [
      "Mean is :  13.571428571428571\n"
     ]
    }
   ],
   "source": [
    "# NOW FINDING MEAN , MEDIAN , MODE , STANDARD DEVIATION , VARIANCE USING NUMPY \n",
    "\n",
    "import numpy as np \n",
    "\n",
    "x=np.array([1,2,3,4,5,6,4,56,3,63,4,45,-1,-5])\n",
    "\n",
    "print(\"Mean is : \" , np.mean(x))"
   ]
  },
  {
   "cell_type": "code",
   "execution_count": 24,
   "id": "465c23fd-8ddf-4e96-a5a7-837d8ec6591f",
   "metadata": {},
   "outputs": [
    {
     "name": "stdout",
     "output_type": "stream",
     "text": [
      "Median is :  4.0\n"
     ]
    }
   ],
   "source": [
    "print(\"Median is : \" , np.median(x))"
   ]
  },
  {
   "cell_type": "code",
   "execution_count": 26,
   "id": "4e24e1d3-13b2-4299-9432-5b043b56ab45",
   "metadata": {},
   "outputs": [
    {
     "name": "stdout",
     "output_type": "stream",
     "text": [
      "Mode is : ModeResult(mode=np.int64(4), count=np.int64(3))\n"
     ]
    }
   ],
   "source": [
    "# NUMPY DOESN'T HAVE ANY ATTRIBUTE NAMED AS MODE \n",
    "# SO TO FIND MODE USING NUMPY WE WILL USE SCIPY \n",
    "\n",
    "from scipy import stats \n",
    "print(\"Mode is :\",stats.mode(x))"
   ]
  },
  {
   "cell_type": "code",
   "execution_count": 27,
   "id": "13101dc2-75a4-44cf-bee1-0219f7b8475d",
   "metadata": {},
   "outputs": [
    {
     "name": "stdout",
     "output_type": "stream",
     "text": [
      "Standard deviation is : 21.89166274998735\n"
     ]
    }
   ],
   "source": [
    "# FINDING STANDARD DEVIATION \n",
    "\n",
    "print(\"Standard deviation is :\",np.std(x))"
   ]
  },
  {
   "cell_type": "code",
   "execution_count": 28,
   "id": "3ebf7c8e-1fdd-4e1f-81dd-e2f0e1c1b6d1",
   "metadata": {},
   "outputs": [
    {
     "name": "stdout",
     "output_type": "stream",
     "text": [
      "Variance is : 479.2448979591837\n"
     ]
    }
   ],
   "source": [
    "# FINDING VARIANCE USING NUMPY \n",
    "\n",
    "print(\"Variance is :\",np.var(x))"
   ]
  },
  {
   "cell_type": "code",
   "execution_count": null,
   "id": "4e4c2f50-1657-43c7-8c78-226e6777b237",
   "metadata": {},
   "outputs": [],
   "source": []
  }
 ],
 "metadata": {
  "kernelspec": {
   "display_name": "Python 3 (ipykernel)",
   "language": "python",
   "name": "python3"
  },
  "language_info": {
   "codemirror_mode": {
    "name": "ipython",
    "version": 3
   },
   "file_extension": ".py",
   "mimetype": "text/x-python",
   "name": "python",
   "nbconvert_exporter": "python",
   "pygments_lexer": "ipython3",
   "version": "3.10.11"
  }
 },
 "nbformat": 4,
 "nbformat_minor": 5
}
